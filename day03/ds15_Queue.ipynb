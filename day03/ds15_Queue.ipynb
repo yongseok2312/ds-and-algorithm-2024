{
 "cells": [
  {
   "cell_type": "code",
   "execution_count": 1,
   "metadata": {},
   "outputs": [],
   "source": [
    "# file: ds15_Queue.ipynb\n",
    "# desc: 큐 학습 노트북"
   ]
  },
  {
   "cell_type": "markdown",
   "metadata": {},
   "source": [
    "## 자료 구조와 알고리즘\n",
    "\n",
    "- 큐\n",
    "\n",
    "![queue](https://upload.wikimedia.org/wikipedia/commons/6/6d/QUEUE.png)\n",
    "\n",
    "### Queue\n"
   ]
  },
  {
   "cell_type": "markdown",
   "metadata": {},
   "source": [
    "1. 큐 선언"
   ]
  },
  {
   "cell_type": "code",
   "execution_count": 2,
   "metadata": {},
   "outputs": [],
   "source": [
    "queue = [None for _ in range(5) ]\n",
    "front = rear = -1 "
   ]
  },
  {
   "cell_type": "markdown",
   "metadata": {},
   "source": [
    "2. enqueue 구현"
   ]
  },
  {
   "cell_type": "code",
   "execution_count": 3,
   "metadata": {},
   "outputs": [],
   "source": [
    "rear+=1\n",
    "queue[rear] = '화사'\n",
    "rear+=1\n",
    "queue[rear] = '솔라'\n",
    "rear+=1\n",
    "queue[rear] = '문별'"
   ]
  },
  {
   "cell_type": "code",
   "execution_count": 7,
   "metadata": {},
   "outputs": [
    {
     "name": "stdout",
     "output_type": "stream",
     "text": [
      "Queue: \n",
      "[out] <- 화사 <- 솔라 <- 문별 <- None <- None <- [in]\n"
     ]
    }
   ],
   "source": [
    "print('Queue: ')\n",
    "print('[out]', end = ' <- ')\n",
    "for i in range(0, len(queue),1):\n",
    "    print(queue[i], end = ' <- ')\n",
    "print('[in]')"
   ]
  },
  {
   "cell_type": "markdown",
   "metadata": {},
   "source": [
    "3. dequeue 구현"
   ]
  },
  {
   "cell_type": "code",
   "execution_count": 8,
   "metadata": {},
   "outputs": [
    {
     "name": "stdout",
     "output_type": "stream",
     "text": [
      "dequeue -> 화사\n"
     ]
    }
   ],
   "source": [
    "front += 1\n",
    "data = queue[front]\n",
    "queue[front] = None\n",
    "print(f'dequeue -> {data}')"
   ]
  },
  {
   "cell_type": "code",
   "execution_count": 9,
   "metadata": {},
   "outputs": [
    {
     "name": "stdout",
     "output_type": "stream",
     "text": [
      "dequeue -> 솔라\n"
     ]
    }
   ],
   "source": [
    "front += 1\n",
    "data = queue[front]\n",
    "queue[front] = None\n",
    "print(f'dequeue -> {data}')"
   ]
  },
  {
   "cell_type": "code",
   "execution_count": 10,
   "metadata": {},
   "outputs": [
    {
     "name": "stdout",
     "output_type": "stream",
     "text": [
      "dequeue -> 문별\n"
     ]
    }
   ],
   "source": [
    "front += 1\n",
    "data = queue[front]\n",
    "queue[front] = None\n",
    "print(f'dequeue -> {data}')"
   ]
  },
  {
   "cell_type": "code",
   "execution_count": 12,
   "metadata": {},
   "outputs": [
    {
     "name": "stdout",
     "output_type": "stream",
     "text": [
      "dequeue -> None\n"
     ]
    }
   ],
   "source": [
    "front += 1\n",
    "data = queue[front]\n",
    "queue[front] = None\n",
    "print(f'dequeue -> {data}')"
   ]
  },
  {
   "cell_type": "code",
   "execution_count": null,
   "metadata": {},
   "outputs": [],
   "source": []
  }
 ],
 "metadata": {
  "kernelspec": {
   "display_name": "Python 3",
   "language": "python",
   "name": "python3"
  },
  "language_info": {
   "codemirror_mode": {
    "name": "ipython",
    "version": 3
   },
   "file_extension": ".py",
   "mimetype": "text/x-python",
   "name": "python",
   "nbconvert_exporter": "python",
   "pygments_lexer": "ipython3",
   "version": "3.11.5"
  }
 },
 "nbformat": 4,
 "nbformat_minor": 2
}
