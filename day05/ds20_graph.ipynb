{
 "cells": [
  {
   "cell_type": "code",
   "execution_count": 1,
   "metadata": {},
   "outputs": [],
   "source": [
    "# file: ds20_graph.ipynb\n",
    "# desc: 그래프 간단 구현"
   ]
  },
  {
   "cell_type": "markdown",
   "metadata": {},
   "source": [
    "## 자료 구조와 알고리즘\n",
    "\n",
    "- 그래프 구현\n",
    "\n",
    "### 그래프 정점 생성\n",
    "\n",
    "![그래프](https://github.com/yongseok2312/ds-and-algorithm-2024/blob/main/image/KakaoTalk_20240216_104956165.png)"
   ]
  }
 ],
 "metadata": {
  "kernelspec": {
   "display_name": "Python 3",
   "language": "python",
   "name": "python3"
  },
  "language_info": {
   "codemirror_mode": {
    "name": "ipython",
    "version": 3
   },
   "file_extension": ".py",
   "mimetype": "text/x-python",
   "name": "python",
   "nbconvert_exporter": "python",
   "pygments_lexer": "ipython3",
   "version": "3.11.5"
  }
 },
 "nbformat": 4,
 "nbformat_minor": 2
}
