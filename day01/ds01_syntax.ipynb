{
 "cells": [
  {
   "cell_type": "code",
   "execution_count": null,
   "metadata": {},
   "outputs": [],
   "source": [
    "# file : ds01_syntax.ipynb\n",
    "# desc : 파이썬 기본 문법 복습"
   ]
  },
  {
   "cell_type": "markdown",
   "metadata": {},
   "source": [
    "## 자료 구조와 알고리즘 \n",
    "- 파이썬 기본 문법 복습\n",
    "\n",
    "### 1. 콘솔출력\n",
    "print()"
   ]
  },
  {
   "cell_type": "code",
   "execution_count": null,
   "metadata": {},
   "outputs": [],
   "source": [
    "#코딩 네이밍 룰 (Naming Rule)\n",
    "#변수 앞 i를 적으면 정수형, f를 적으면 실수형, s적으면 문자열형, is를 쓰면 Boolean형\n",
    "iBasic = 12\n",
    "fTaxRate = 10.2\n",
    "sMonth = 'Decomber'\n",
    "\n",
    "iBasic, iMonth, sMonthf, TaxRate = False, 1, 'January', 808"
   ]
  },
  {
   "cell_type": "code",
   "execution_count": null,
   "metadata": {},
   "outputs": [],
   "source": [
    "# 각 변수별 타입 확인. 주비터 노트북에서는 함수만 써서 화면 출력 가능\n",
    "# print ()\n",
    "print(type(iBasic), type(iMonth), type(sMonth),type(fTaxRate))\n"
   ]
  },
  {
   "cell_type": "code",
   "execution_count": null,
   "metadata": {},
   "outputs": [],
   "source": [
    "# 구식방법\n",
    "# 100출력 방법 \n",
    "# '%d' 정수 출력, % 뒤에 있는 값을 정수형 문자열로 출력\n",
    "\n",
    "print( '%d' %(100))"
   ]
  },
  {
   "cell_type": "code",
   "execution_count": null,
   "metadata": {},
   "outputs": [],
   "source": [
    "print(print( '%d' % (100+100)))"
   ]
  },
  {
   "cell_type": "code",
   "execution_count": null,
   "metadata": {},
   "outputs": [],
   "source": [
    "# 구식방법, 잘못된 예 - %d 갯수와 % 뒤의 값 갯수가 일치해야 함. \n",
    "print('%d'| '%d', '%d' % (108,209) )"
   ]
  },
  {
   "cell_type": "code",
   "execution_count": null,
   "metadata": {},
   "outputs": [],
   "source": [
    "# % 문자열 포맷에는 2진수가 없음 (c언어부터 사용~)\n",
    "print('%02d / %s / %.2f / %c / %x / %o' % (iMonth, sMonth, fTaxRate, 'H', 255, 57 ))"
   ]
  },
  {
   "cell_type": "code",
   "execution_count": null,
   "metadata": {},
   "outputs": [],
   "source": [
    "## 신싱 방법 포맷스트링 (90년대 경 발전~)\n",
    "print('{0:02d} / {1} / {2:.2f} / {3} / {4:x} / {5:0} / {6:b}'. format(iMonth, sMonth, fTaxRate, 'h', 255, 57, 32))"
   ]
  },
  {
   "cell_type": "code",
   "execution_count": null,
   "metadata": {},
   "outputs": [],
   "source": [
    "## 최신식 방법 포맷스트링 (python 3.6 이후 개발_2015년 )\n",
    "print(f'{iMonth:02d} / {sMonth} / {fTaxRate:.2f} / {\"H\"} / {255:x} / {57:0} / {1023:b}')"
   ]
  },
  {
   "cell_type": "markdown",
   "metadata": {},
   "source": [
    "### 2. 입력\n",
    "- input()"
   ]
  },
  {
   "cell_type": "code",
   "execution_count": null,
   "metadata": {},
   "outputs": [],
   "source": [
    "# 입력은 무조건 문자열이다. (str) \n",
    "# x에 100, y에 20을 넣으면 결과값은 10020으로 출력\n",
    "x = input()\n",
    "y = input()\n",
    "print(x + y) # 문자열 결합"
   ]
  },
  {
   "cell_type": "code",
   "execution_count": null,
   "metadata": {},
   "outputs": [],
   "source": [
    "# 입력을 정수로 변경해줘야함\n",
    "# x에 100, y에 20 결과값 120 \n",
    "x = int(input())\n",
    "y = int(input())\n",
    "print(x + y) "
   ]
  },
  {
   "cell_type": "code",
   "execution_count": null,
   "metadata": {},
   "outputs": [],
   "source": [
    "# 실수는 float()으로 변환\n",
    "# 참고) 정수는 실수로 자동변환 / 실수에서 정수는 수동으로 변환 필요\n",
    "# x에 100, y에 20 결과값 120.0\n",
    "x = float(input())\n",
    "y = float(input())\n",
    "print(x + y) "
   ]
  },
  {
   "cell_type": "code",
   "execution_count": null,
   "metadata": {},
   "outputs": [],
   "source": [
    "## input()만 쓰면 어떤 방식으로 하는지 모르기때문에 내용을 옵션으로 작성해준다. \n",
    "\n",
    "x = float(input('첫번째 실수 입력(예 3.14) >'))\n",
    "y = float(input('두번째 실수 입력(예 3.14) >'))\n",
    "print(f'{x:.2f} * {y:.2f} = {x * y:.4f}') # 소숫점 자리 지정\n"
   ]
  },
  {
   "cell_type": "code",
   "execution_count": null,
   "metadata": {},
   "outputs": [],
   "source": [
    "## 입력 값이 두개 이상이면 map 과 split 활용\n",
    "x, y = map(float, input('두 실수를 입력(스페이스로 구분) > ').split())\n",
    "print(f'{x:.2f} * {y:.2f} = {x * y:.4f}')"
   ]
  },
  {
   "cell_type": "markdown",
   "metadata": {},
   "source": [
    "### 3. 연산자 \n",
    "- 사칙연산, 승수, 나머지의 경우 연산자 3개"
   ]
  },
  {
   "cell_type": "code",
   "execution_count": null,
   "metadata": {},
   "outputs": [],
   "source": [
    "## 산술 연산\n",
    "a = 5; b = 3 # 여러 개의 로직을 한 줄에 사용시, 세미콜론(;)으로 구분\n",
    "a, b = 5, 3 # 같은 구문\n",
    "\n",
    "print (a + b, a - b, a * b, a / b, a//b, a % b, a ** b)"
   ]
  },
  {
   "cell_type": "code",
   "execution_count": null,
   "metadata": {},
   "outputs": [],
   "source": [
    "## 대입 연산자 \n",
    "a = 5\n",
    "\n",
    "a += 3\n",
    "print(a) # 출력값 10\n",
    "\n",
    "a -= 3\n",
    "print(a) # 출력값 5 \n",
    "\n",
    "a *=3\n",
    "print(a) # 출력값 15\n",
    "\n",
    "a /= 3\n",
    "print(a) # 출력값 5.0\n",
    "\n",
    "a=int(a) # 5.0 -> 5 \n",
    "\n",
    "a //= 3 \n",
    "print(a) # 출력값 1\n",
    "\n",
    "a = 5 \n",
    "\n",
    "a %= 3\n",
    "print(a) # 출력값 2\n",
    "\n",
    "a **= 3\n",
    "print(a) # 출력값 8 (2^3 승)\n",
    "\n",
    "\n",
    "\n",
    "\n"
   ]
  },
  {
   "cell_type": "code",
   "execution_count": null,
   "metadata": {},
   "outputs": [],
   "source": [
    "## 관계연산자 \n",
    "a, b, c, d = 3, 5, 9, 5\n",
    "print(a == b)\n",
    "print(a > b)\n",
    "print(a < b)\n",
    "print(b == d, a > b, d < c, b >= d, c <= a)\n",
    "print(a < b and c > d) # 양쪽 다 참이면 true, 한쪽이라도 거짓이면 false\n",
    "print(a > b or c > d) # 둘 중에 하나만 참이어도 ture, 둘 다 거짓이면 false "
   ]
  },
  {
   "cell_type": "code",
   "execution_count": null,
   "metadata": {},
   "outputs": [],
   "source": [
    "## 문자열과 숫자의 상호변환 - 형변환(Type casting)\n",
    "\n",
    "10 # 출력값 10\n",
    "\n",
    "str(10) # 정수 10을 문자열로 변환 출력값 '10'\n",
    "\n",
    "str(3.141592) # 실수를 문자열로 변환\n",
    "\n",
    "'10' # 문자열 10\n",
    "\n",
    "int('10') # 문자열을 정수로 \n",
    "\n",
    "int(3.14) # 실수형을 정수형으로 변환가능, 소수점 이하 생략 /출력값 3 \n",
    "\n",
    "float('3.14') # 실수 값 문자열은 정수 변환 X ->  float로 변환\n",
    "\n",
    "float('3')\n",
    "\n",
    "float(3)\n",
    "\n",
    "bool(1) # 1은 Ture, 0은 False / 1만 True로 사용하기\n",
    "\n"
   ]
  },
  {
   "cell_type": "markdown",
   "metadata": {},
   "source": [
    "### 5. 흐름제어\n",
    "- 조건문"
   ]
  },
  {
   "cell_type": "code",
   "execution_count": null,
   "metadata": {},
   "outputs": [],
   "source": [
    "# 단순 if문\n",
    "army = 300\n",
    "\n",
    "if army < 300: \n",
    "    print('패배')\n",
    "else : \n",
    "    print ('승리')"
   ]
  },
  {
   "cell_type": "code",
   "execution_count": null,
   "metadata": {},
   "outputs": [],
   "source": [
    "# elif문\n",
    "army = 300\n",
    "\n",
    "if army < 300: \n",
    "    print('패배') # print문을 block 이라 한다. block if amry < 300 : 조건 안으로 들억\\\n",
    "    print('도망가겠습니다')\n",
    "elif army == 300:\n",
    "    print('아슬아슬 합니다')\n",
    "else : \n",
    "    print ('승리')\n",
    "\n",
    " # if문도 계속 중첩 시키면 경우의 수가 기하급수적으로 증가(경우를 모두 처리 해줘야함)  "
   ]
  },
  {
   "cell_type": "code",
   "execution_count": 72,
   "metadata": {},
   "outputs": [
    {
     "name": "stdout",
     "output_type": "stream",
     "text": [
      "0, 1, 2, 3, 4, 5, 6, 7, 8, 9, "
     ]
    }
   ],
   "source": [
    "## for문 \n",
    "for i in range(10) : \n",
    "    print(i, end= ', ')"
   ]
  },
  {
   "cell_type": "code",
   "execution_count": 73,
   "metadata": {},
   "outputs": [
    {
     "name": "stdout",
     "output_type": "stream",
     "text": [
      "1, 2, 3, 4, 5, 6, 7, 8, 9, 10, "
     ]
    }
   ],
   "source": [
    "for i in range(1, 10+1) : \n",
    "    print(i, end= ', ' )"
   ]
  },
  {
   "cell_type": "code",
   "execution_count": 74,
   "metadata": {},
   "outputs": [
    {
     "name": "stdout",
     "output_type": "stream",
     "text": [
      "1, 3, 5, 7, 9, "
     ]
    }
   ],
   "source": [
    "for i in range(1, 10+1, 2) : \n",
    "    print(i, end = ', ' )"
   ]
  },
  {
   "cell_type": "code",
   "execution_count": 75,
   "metadata": {},
   "outputs": [
    {
     "name": "stdout",
     "output_type": "stream",
     "text": [
      "0, 1, 2, 3, 4, 5, 6, 7, 8, 9, "
     ]
    }
   ],
   "source": [
    "for i in [0,1,2,3,4,5,6,7,8,9]:\n",
    "    print(i, end = ', ' )\n"
   ]
  },
  {
   "cell_type": "code",
   "execution_count": 76,
   "metadata": {},
   "outputs": [
    {
     "name": "stdout",
     "output_type": "stream",
     "text": [
      "0, 1, 2, 3, 4, 5, 6, 7, 8, 9, "
     ]
    }
   ],
   "source": [
    "mylist = [0,1,2,3,4,5,6,7,8,9]\n",
    "for i in mylist:\n",
    "    print(i, end = ', ' )    "
   ]
  },
  {
   "cell_type": "code",
   "execution_count": 78,
   "metadata": {},
   "outputs": [
    {
     "name": "stdout",
     "output_type": "stream",
     "text": [
      "1, 3, 5, 7, 9, "
     ]
    }
   ],
   "source": [
    "for i in [1,3,5,7,9] :\n",
    "    print(i, end = ', ' )\n"
   ]
  },
  {
   "cell_type": "markdown",
   "metadata": {},
   "source": [
    "- while "
   ]
  },
  {
   "cell_type": "code",
   "execution_count": null,
   "metadata": {},
   "outputs": [],
   "source": [
    "## while문 \n",
    "while True: # 무한루프 \n",
    "    print('ㅎ', end='')  "
   ]
  },
  {
   "cell_type": "markdown",
   "metadata": {},
   "source": [
    "- continue : 반복문에서 조건이 맞으면 로직을 실행하지 않고 다음 반복으로 계속 돌아감\n",
    "- break : 반목문에서 조건이 맞으면 반복문 블록을 빠져나옴 "
   ]
  },
  {
   "cell_type": "code",
   "execution_count": 79,
   "metadata": {},
   "outputs": [
    {
     "name": "stdout",
     "output_type": "stream",
     "text": [
      "ㅎ"
     ]
    }
   ],
   "source": [
    "while True: # 무한루프 \n",
    "    print('ㅎ', end='')  \n",
    "    break"
   ]
  },
  {
   "cell_type": "code",
   "execution_count": 80,
   "metadata": {},
   "outputs": [
    {
     "name": "stdout",
     "output_type": "stream",
     "text": [
      "for문 1번 실행\n",
      "for문 2번 실행\n",
      "for문 3번 실행\n",
      "for문 4번 실행\n",
      "for문 5번 실행\n",
      "for문 6번 실행\n",
      "for문 7번 실행\n",
      "for문 8번 실행\n",
      "for문 9번 실행\n",
      "for문 10번 실행\n"
     ]
    }
   ],
   "source": [
    "for i in range(1, 100+1) : \n",
    "    print(f'for문 {i}번 실행')\n",
    "    if i == 10 : break"
   ]
  },
  {
   "cell_type": "code",
   "execution_count": 82,
   "metadata": {},
   "outputs": [
    {
     "name": "stdout",
     "output_type": "stream",
     "text": [
      "for문 1번 실행\n",
      "for문 2번 실행\n",
      "for문 3번 실행\n",
      "for문 4번 실행\n",
      "for문 5번 실행\n",
      "for문 6번 실행\n",
      "for문 7번 실행\n",
      "for문 8번 실행\n",
      "for문 9번 실행\n",
      "for문 11번 실행\n",
      "for문 12번 실행\n",
      "for문 13번 실행\n",
      "for문 14번 실행\n",
      "for문 15번 실행\n",
      "for문 16번 실행\n",
      "for문 17번 실행\n",
      "for문 18번 실행\n",
      "for문 19번 실행\n",
      "for문 21번 실행\n",
      "for문 22번 실행\n",
      "for문 23번 실행\n",
      "for문 24번 실행\n",
      "for문 25번 실행\n",
      "for문 26번 실행\n",
      "for문 27번 실행\n",
      "for문 28번 실행\n",
      "for문 29번 실행\n",
      "for문 31번 실행\n",
      "for문 32번 실행\n",
      "for문 33번 실행\n",
      "for문 34번 실행\n",
      "for문 35번 실행\n",
      "for문 36번 실행\n",
      "for문 37번 실행\n",
      "for문 38번 실행\n",
      "for문 39번 실행\n",
      "for문 41번 실행\n",
      "for문 42번 실행\n",
      "for문 43번 실행\n",
      "for문 44번 실행\n",
      "for문 45번 실행\n",
      "for문 46번 실행\n",
      "for문 47번 실행\n",
      "for문 48번 실행\n",
      "for문 49번 실행\n",
      "for문 51번 실행\n",
      "for문 52번 실행\n",
      "for문 53번 실행\n",
      "for문 54번 실행\n",
      "for문 55번 실행\n",
      "for문 56번 실행\n",
      "for문 57번 실행\n",
      "for문 58번 실행\n",
      "for문 59번 실행\n",
      "for문 61번 실행\n",
      "for문 62번 실행\n",
      "for문 63번 실행\n",
      "for문 64번 실행\n",
      "for문 65번 실행\n",
      "for문 66번 실행\n",
      "for문 67번 실행\n",
      "for문 68번 실행\n",
      "for문 69번 실행\n",
      "for문 71번 실행\n",
      "for문 72번 실행\n",
      "for문 73번 실행\n",
      "for문 74번 실행\n",
      "for문 75번 실행\n",
      "for문 76번 실행\n",
      "for문 77번 실행\n",
      "for문 78번 실행\n",
      "for문 79번 실행\n",
      "for문 81번 실행\n",
      "for문 82번 실행\n",
      "for문 83번 실행\n",
      "for문 84번 실행\n",
      "for문 85번 실행\n",
      "for문 86번 실행\n",
      "for문 87번 실행\n",
      "for문 88번 실행\n",
      "for문 89번 실행\n",
      "for문 91번 실행\n",
      "for문 92번 실행\n",
      "for문 93번 실행\n",
      "for문 94번 실행\n",
      "for문 95번 실행\n",
      "for문 96번 실행\n",
      "for문 97번 실행\n",
      "for문 98번 실행\n",
      "for문 99번 실행\n"
     ]
    }
   ],
   "source": [
    "for i in range(1, 100+1) : \n",
    "    if i % 10 == 0 : continue\n",
    "    print(f'for문 {i}번 실행')"
   ]
  },
  {
   "cell_type": "code",
   "execution_count": 86,
   "metadata": {},
   "outputs": [
    {
     "name": "stdout",
     "output_type": "stream",
     "text": [
      "for문 1번 실행\n",
      "for문 7번 실행\n",
      "for문 11번 실행\n",
      "for문 13번 실행\n",
      "for문 17번 실행\n",
      "for문 19번 실행\n",
      "for문 23번 실행\n",
      "for문 29번 실행\n",
      "for문 31번 실행\n",
      "for문 37번 실행\n",
      "for문 41번 실행\n",
      "for문 43번 실행\n",
      "for문 47번 실행\n",
      "for문 49번 실행\n",
      "for문 53번 실행\n",
      "for문 59번 실행\n",
      "for문 61번 실행\n",
      "for문 67번 실행\n",
      "for문 71번 실행\n",
      "for문 73번 실행\n",
      "for문 77번 실행\n",
      "for문 79번 실행\n",
      "for문 83번 실행\n",
      "for문 89번 실행\n",
      "for문 91번 실행\n",
      "for문 97번 실행\n",
      "26\n"
     ]
    }
   ],
   "source": [
    "count = 0 \n",
    "\n",
    "for i in range(1, 100+1) : \n",
    "    if (i % 10 == 0) or (i % 2 == 0) or (i % 3 == 0) or (i % 5 == 0) : continue\n",
    "    print(f'for문 {i}번 실행')\n",
    "    count +=1\n",
    "\n",
    "print(count)  \n",
    "\n",
    "# 빅-오 표기법에서 log n 인 상황 "
   ]
  },
  {
   "cell_type": "markdown",
   "metadata": {},
   "source": [
    "### 6. 함수\n",
    "- 매개변수를 받아서 동일한 로직을 처리하는 영역 "
   ]
  },
  {
   "cell_type": "code",
   "execution_count": 87,
   "metadata": {},
   "outputs": [
    {
     "name": "stdout",
     "output_type": "stream",
     "text": [
      "200과 100의 합은 300\n"
     ]
    }
   ],
   "source": [
    "def plus(v1, v2) : \n",
    "    result = 0\n",
    "    result = v1 + v2 \n",
    "    return result\n",
    "\n",
    "hap = 0 \n",
    "\n",
    "hap = plus(200, 100)\n",
    "print(f'200과 100의 합은 {hap}')"
   ]
  },
  {
   "cell_type": "markdown",
   "metadata": {},
   "source": [
    "#### 6-1, 지역변수 / 전역변수\n",
    "Local variable / Global variable "
   ]
  },
  {
   "cell_type": "code",
   "execution_count": 89,
   "metadata": {},
   "outputs": [
    {
     "name": "stdout",
     "output_type": "stream",
     "text": [
      "500\n",
      "5.0\n",
      "90\n"
     ]
    },
    {
     "ename": "NameError",
     "evalue": "name 'lcl_val' is not defined",
     "output_type": "error",
     "traceback": [
      "\u001b[1;31m---------------------------------------------------------------------------\u001b[0m",
      "\u001b[1;31mNameError\u001b[0m                                 Traceback (most recent call last)",
      "Cell \u001b[1;32mIn[89], line 13\u001b[0m\n\u001b[0;32m     10\u001b[0m     \u001b[38;5;28mprint\u001b[39m(lcl_val \u001b[38;5;241m/\u001b[39m\u001b[38;5;241m3\u001b[39m )\n\u001b[0;32m     12\u001b[0m func1()\n\u001b[1;32m---> 13\u001b[0m \u001b[43mfunc2\u001b[49m\u001b[43m(\u001b[49m\u001b[43m)\u001b[49m\n",
      "Cell \u001b[1;32mIn[89], line 10\u001b[0m, in \u001b[0;36mfunc2\u001b[1;34m()\u001b[0m\n\u001b[0;32m      8\u001b[0m \u001b[38;5;28;01mdef\u001b[39;00m \u001b[38;5;21mfunc2\u001b[39m() :\n\u001b[0;32m      9\u001b[0m     \u001b[38;5;28mprint\u001b[39m(gbl_val \u001b[38;5;241m-\u001b[39m \u001b[38;5;241m10\u001b[39m )\n\u001b[1;32m---> 10\u001b[0m     \u001b[38;5;28mprint\u001b[39m(\u001b[43mlcl_val\u001b[49m \u001b[38;5;241m/\u001b[39m\u001b[38;5;241m3\u001b[39m )\n",
      "\u001b[1;31mNameError\u001b[0m: name 'lcl_val' is not defined"
     ]
    }
   ],
   "source": [
    "gbl_val = 100 # 전역변수 \n",
    "\n",
    "def func1() :\n",
    "    lcl_val = 10 # 지역변수\n",
    "    print(gbl_val * 5 )\n",
    "    print(lcl_val / 2)\n",
    "\n",
    "def func2() :\n",
    "    print(gbl_val - 10 )\n",
    "    print(lcl_val /3 ) #lcl_val 은 위 블록에서만 작동하므로, 해당 블록에서는 작동 x\n",
    "\n",
    "func1()\n",
    "func2()"
   ]
  },
  {
   "cell_type": "code",
   "execution_count": 93,
   "metadata": {},
   "outputs": [
    {
     "name": "stdout",
     "output_type": "stream",
     "text": [
      "30\n",
      "30\n"
     ]
    }
   ],
   "source": [
    "aa = 10 # 글로벌 \n",
    "\n",
    "def func3() : \n",
    "    # aa = 20 # 지역변수\n",
    "    global aa \n",
    "    aa = 30\n",
    "    print(aa) \n",
    "\n",
    "def func4() : \n",
    "    print(aa) # 글로벌변수\n",
    "\n",
    "func3()\n",
    "func4()\n",
    "\n",
    "## 로컬일 경우는 20, 10\n",
    "## 글로벌로 선언하면 30, 30\n"
   ]
  }
 ],
 "metadata": {
  "kernelspec": {
   "display_name": "Python 3",
   "language": "python",
   "name": "python3"
  },
  "language_info": {
   "codemirror_mode": {
    "name": "ipython",
    "version": 3
   },
   "file_extension": ".py",
   "mimetype": "text/x-python",
   "name": "python",
   "nbconvert_exporter": "python",
   "pygments_lexer": "ipython3",
   "version": "3.11.5"
  }
 },
 "nbformat": 4,
 "nbformat_minor": 2
}
