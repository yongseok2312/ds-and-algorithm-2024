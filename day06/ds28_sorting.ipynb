{
 "cells": [
  {
   "cell_type": "code",
   "execution_count": null,
   "metadata": {},
   "outputs": [],
   "source": [
    "# file: ds28_sorting.ipynb\n",
    "# desc: 각 정렬 알고리즘 학습"
   ]
  },
  {
   "cell_type": "markdown",
   "metadata": {},
   "source": [
    "## 자료 구조 알고리즘\n",
    "\n",
    "- 정렬\n",
    "\n",
    "### 선택정렬 selection Sort"
   ]
  },
  {
   "cell_type": "code",
   "execution_count": 4,
   "metadata": {},
   "outputs": [],
   "source": [
    "def findMinIdx(ary):\n",
    "    minIdx=0\n",
    "\n",
    "    for i in range(1,len(ary)):\n",
    "        if (ary[minIdx]>ary[i]):\n",
    "            minIdx = i\n",
    "    return minIdx\n"
   ]
  },
  {
   "cell_type": "code",
   "execution_count": 5,
   "metadata": {},
   "outputs": [
    {
     "name": "stdout",
     "output_type": "stream",
     "text": [
      "최솟값 --> 33\n"
     ]
    }
   ],
   "source": [
    "testAry = [55,88,33,77,99]\n",
    "minPos = findMinIdx(testAry)\n",
    "print(f'최솟값 --> {testAry[minPos]}')"
   ]
  },
  {
   "cell_type": "code",
   "execution_count": 6,
   "metadata": {},
   "outputs": [],
   "source": [
    "before = [ 188,162,168,120,50,150,177,105]\n",
    "after =[]\n"
   ]
  },
  {
   "cell_type": "code",
   "execution_count": 7,
   "metadata": {},
   "outputs": [
    {
     "name": "stdout",
     "output_type": "stream",
     "text": [
      "정렬 전 --> [188, 162, 168, 120, 50, 150, 177, 105]\n"
     ]
    }
   ],
   "source": [
    "print(f'정렬 전 --> {before}')\n"
   ]
  },
  {
   "cell_type": "code",
   "execution_count": 8,
   "metadata": {},
   "outputs": [],
   "source": [
    "for _ in range(len(before)):\n",
    "    minPos = findMinIdx(before)\n",
    "    after.append(before[minPos])\n",
    "    del before[minPos]"
   ]
  },
  {
   "cell_type": "code",
   "execution_count": 9,
   "metadata": {},
   "outputs": [
    {
     "name": "stdout",
     "output_type": "stream",
     "text": [
      "정렬 후 --> [50, 105, 120, 150, 162, 168, 177, 188]\n"
     ]
    }
   ],
   "source": [
    "print(f'정렬 후 --> {after}')"
   ]
  },
  {
   "cell_type": "markdown",
   "metadata": {},
   "source": [
    "### 개선된 선택 정렬"
   ]
  },
  {
   "cell_type": "code",
   "execution_count": 10,
   "metadata": {},
   "outputs": [],
   "source": [
    "def selectionSort(ary):\n",
    "    n = len(ary)\n",
    "    for i in range(0,n-1):\n",
    "        minIdx = i\n",
    "        for k in range(i+1,n):\n",
    "            if ary[minIdx]>ary[k]:\n",
    "                minIdx = k\n",
    "\n",
    "        tmp = ary[i] # 원래 있던 값을 (최초 0)\n",
    "        ary[i] = ary[minIdx]    #minIdx에 있는 최솟값을 가져옴\n",
    "        ary[minIdx] = tmp\n",
    "\n",
    "    return ary"
   ]
  },
  {
   "cell_type": "code",
   "execution_count": 11,
   "metadata": {},
   "outputs": [],
   "source": [
    "dataAry = [188, 162, 168,120,50,1050,105,215]"
   ]
  },
  {
   "cell_type": "code",
   "execution_count": 12,
   "metadata": {},
   "outputs": [
    {
     "name": "stdout",
     "output_type": "stream",
     "text": [
      "정렬 전 --> [188, 162, 168, 120, 50, 1050, 105, 215]\n",
      "정렬 후 --> [50, 105, 120, 162, 168, 188, 215, 1050]\n"
     ]
    }
   ],
   "source": [
    "print(f'정렬 전 --> {dataAry}')\n",
    "selectionSort(dataAry)\n",
    "print(f'정렬 후 --> {dataAry}')"
   ]
  },
  {
   "cell_type": "markdown",
   "metadata": {},
   "source": [
    "### 삽입정렬 Insertion Sort\n",
    "\n",
    "- 시간 복잡도 : O(n^2) 그리 좋지 않다"
   ]
  },
  {
   "cell_type": "code",
   "execution_count": 18,
   "metadata": {},
   "outputs": [],
   "source": [
    "def finInsertIdx(ary, data):\n",
    "    findIdx = -1    # 없는 위치 파이썬 -1 리스트 제일 오른쪽 마지막을 뜻하나 현재는 데이터가 없다는 의미\n",
    "\n",
    "    for i in range(0, len(ary)):\n",
    "        if ary[i] > data:\n",
    "            findIdx = i\n",
    "            break\n",
    "\n",
    "    if findIdx == -1:\n",
    "        return len(ary)     # 리스트 맨 마지막\n",
    "    else:\n",
    "        return findIdx\n",
    "    \n"
   ]
  },
  {
   "cell_type": "code",
   "execution_count": 19,
   "metadata": {},
   "outputs": [
    {
     "name": "stdout",
     "output_type": "stream",
     "text": [
      "index 위치: 0\n"
     ]
    }
   ],
   "source": [
    "testAry =[]\n",
    "print(f'index 위치: {finInsertIdx(testAry, 55)}')"
   ]
  },
  {
   "cell_type": "code",
   "execution_count": 20,
   "metadata": {},
   "outputs": [
    {
     "name": "stdout",
     "output_type": "stream",
     "text": [
      "index 위치: 1\n"
     ]
    }
   ],
   "source": [
    "testAry = [33, 77, 88]\n",
    "print(f'index 위치: {finInsertIdx(testAry, 55)}')\n"
   ]
  },
  {
   "cell_type": "code",
   "execution_count": 21,
   "metadata": {},
   "outputs": [
    {
     "name": "stdout",
     "output_type": "stream",
     "text": [
      "index 위치: 3\n"
     ]
    }
   ],
   "source": [
    "testAry = [33, 44,22,77, 88]\n",
    "print(f'index 위치: {finInsertIdx(testAry, 55)}')"
   ]
  },
  {
   "cell_type": "code",
   "execution_count": 22,
   "metadata": {},
   "outputs": [
    {
     "data": {
      "text/plain": [
       "[33, 44, 22, 55, 77, 88]"
      ]
     },
     "execution_count": 22,
     "metadata": {},
     "output_type": "execute_result"
    }
   ],
   "source": [
    "testAry.insert(3,55)\n",
    "testAry"
   ]
  },
  {
   "cell_type": "markdown",
   "metadata": {},
   "source": [
    "### 최종 삽입 정렬\n",
    "\n",
    "- 시간 복잡도 : O(n^2) 그리 좋지 않다"
   ]
  },
  {
   "cell_type": "code",
   "execution_count": 23,
   "metadata": {},
   "outputs": [],
   "source": [
    "def insertionSort(ary):\n",
    "    n = len(ary)\n",
    "    for end in range(1,n):\n",
    "        for cur in range(end, 0, -1):\n",
    "            if ary[cur-1]>ary[cur]:\n",
    "                tmp = ary[cur]\n",
    "                ary[cur] = ary[cur-1]\n",
    "                ary[cur-1] = tmp\n",
    "    return ary"
   ]
  },
  {
   "cell_type": "code",
   "execution_count": 25,
   "metadata": {},
   "outputs": [],
   "source": [
    "dataAry = [188, 162, 168,120,50,1050,105,215]\n"
   ]
  },
  {
   "cell_type": "code",
   "execution_count": 26,
   "metadata": {},
   "outputs": [
    {
     "name": "stdout",
     "output_type": "stream",
     "text": [
      "삽입정렬 전 : [188, 162, 168, 120, 50, 1050, 105, 215]\n"
     ]
    }
   ],
   "source": [
    "print(f'삽입정렬 전 : {dataAry}')\n"
   ]
  },
  {
   "cell_type": "code",
   "execution_count": 27,
   "metadata": {},
   "outputs": [
    {
     "name": "stdout",
     "output_type": "stream",
     "text": [
      "삽입정렬 후 : [50, 105, 120, 162, 168, 188, 215, 1050]\n"
     ]
    }
   ],
   "source": [
    "dataAry = insertionSort(dataAry)\n",
    "print(f'삽입정렬 후 : {dataAry}')"
   ]
  },
  {
   "cell_type": "markdown",
   "metadata": {},
   "source": [
    "### 버블 정렬  Bubble Sort\n",
    "\n",
    "- 시간 복잡도 : O(n^2) 이전과 동일\n",
    "    - 단, 정렬이 어느정도 되어 있는 데이터는 연산수가 급격하게 줄어듦\n",
    "    - 그닥 좋지 않음 "
   ]
  },
  {
   "cell_type": "code",
   "execution_count": 34,
   "metadata": {},
   "outputs": [],
   "source": [
    "def bubbleSort(ary):\n",
    "    n = len(ary)\n",
    "    for end in range(n-1, 0 , -1):\n",
    "        for cur in range(0, end):\n",
    "            if ary[cur] > ary[cur+1]:\n",
    "                tmp = ary[cur]\n",
    "                ary[cur] = ary[cur+1]\n",
    "                ary[cur+1] = tmp\n",
    "    return ary\n"
   ]
  },
  {
   "cell_type": "code",
   "execution_count": 35,
   "metadata": {},
   "outputs": [],
   "source": [
    "dataAry = [188, 162, 168,120,50,1050,105,215]\n"
   ]
  },
  {
   "cell_type": "code",
   "execution_count": 36,
   "metadata": {},
   "outputs": [
    {
     "name": "stdout",
     "output_type": "stream",
     "text": [
      "버블 정렬 전 : [188, 162, 168, 120, 50, 1050, 105, 215]\n"
     ]
    }
   ],
   "source": [
    "print(f'버블 정렬 전 : {dataAry}')"
   ]
  },
  {
   "cell_type": "code",
   "execution_count": 43,
   "metadata": {},
   "outputs": [
    {
     "name": "stdout",
     "output_type": "stream",
     "text": [
      "버블 정렬 후 : [50, 105, 120, 162, 168, 188, 215, 1050]\n"
     ]
    }
   ],
   "source": [
    "dataAry = bubbleSort(dataAry)\n",
    "print(f'버블 정렬 후 : {dataAry}')\n"
   ]
  },
  {
   "cell_type": "markdown",
   "metadata": {},
   "source": [
    "### 퀵 정렬 Quick Sort\n",
    "\n",
    "- 기준값(중앙값) 기준으로 왼쪽, 오른쪽 그룹 분리한 뒤 다시 정렬하는 방법\n",
    "- 시간복잡도: best, nomal 0 (nlog2n), worst 0(n^2)"
   ]
  },
  {
   "cell_type": "code",
   "execution_count": 56,
   "metadata": {},
   "outputs": [],
   "source": [
    "def quickSort(ary):\n",
    "    n = len(ary)\n",
    "    if n <= 1: return ary\n",
    "\n",
    "    pivot = ary[n //2] \n",
    "    leftAry, rightAry = [], []\n",
    "\n",
    "    for data in ary:\n",
    "        if data < pivot:\n",
    "            leftAry.append(data)\n",
    "        elif data == pivot:\n",
    "            pass\n",
    "        else:\n",
    "            rightAry.append(data)\n",
    "\n",
    "    return quickSort(leftAry) + [pivot] + quickSort(rightAry)  # 재귀호출\n"
   ]
  },
  {
   "cell_type": "code",
   "execution_count": 57,
   "metadata": {},
   "outputs": [],
   "source": [
    "dataAry = [188, 162, 168,120,50,1050,105,215]\n"
   ]
  },
  {
   "cell_type": "code",
   "execution_count": 58,
   "metadata": {},
   "outputs": [
    {
     "name": "stdout",
     "output_type": "stream",
     "text": [
      "퀵정렬 전 : [188, 162, 168, 120, 50, 1050, 105, 215]\n"
     ]
    }
   ],
   "source": [
    "print(f'퀵정렬 전 : {dataAry}')"
   ]
  },
  {
   "cell_type": "code",
   "execution_count": 59,
   "metadata": {},
   "outputs": [
    {
     "name": "stdout",
     "output_type": "stream",
     "text": [
      "퀵정렬 후 : [50, 105, 120, 162, 168, 188, 215, 1050]\n"
     ]
    }
   ],
   "source": [
    "dataAry = quickSort(dataAry)\n",
    "print(f'퀵정렬 후 : {dataAry}')"
   ]
  },
  {
   "cell_type": "code",
   "execution_count": 70,
   "metadata": {},
   "outputs": [],
   "source": [
    "def qSort(arr,start,end):\n",
    "    if end <= start: return\n",
    "\n",
    "    low = start\n",
    "    high = end\n",
    "    pivot = arr[(low+high)//2] # 작은 값은 왼쪽으로 큰 값은 오른쪽\n",
    "\n",
    "    while low<= high:\n",
    "        while arr[low] < pivot:\n",
    "            low+=1\n",
    "        while arr[high]> pivot:\n",
    "            high -=1\n",
    "        if low<=high:\n",
    "            tmp = arr[low]\n",
    "            arr[low] = arr[high]\n",
    "            arr[high] = tmp\n",
    "            low +=1\n",
    "            high -= 1\n",
    "\n",
    "    mid = low\n",
    "    qSort(arr,start, mid-1)\n",
    "    qSort(arr, mid, end)"
   ]
  },
  {
   "cell_type": "code",
   "execution_count": 71,
   "metadata": {},
   "outputs": [],
   "source": [
    "def quickSort2(ary):\n",
    "    qSort(ary, 0, len(ary)-1)"
   ]
  },
  {
   "cell_type": "code",
   "execution_count": 72,
   "metadata": {},
   "outputs": [],
   "source": [
    "dataAry = [188, 162, 168,120,50,1050,105,215]"
   ]
  },
  {
   "cell_type": "code",
   "execution_count": 73,
   "metadata": {},
   "outputs": [
    {
     "name": "stdout",
     "output_type": "stream",
     "text": [
      "퀵 정렬 후 : [50, 105, 120, 162, 168, 188, 215, 1050]\n"
     ]
    }
   ],
   "source": [
    "quickSort2(dataAry)\n",
    "print(f'퀵 정렬 후 : {dataAry}')"
   ]
  },
  {
   "cell_type": "code",
   "execution_count": null,
   "metadata": {},
   "outputs": [],
   "source": []
  },
  {
   "cell_type": "code",
   "execution_count": null,
   "metadata": {},
   "outputs": [],
   "source": []
  }
 ],
 "metadata": {
  "kernelspec": {
   "display_name": "Python 3",
   "language": "python",
   "name": "python3"
  },
  "language_info": {
   "codemirror_mode": {
    "name": "ipython",
    "version": 3
   },
   "file_extension": ".py",
   "mimetype": "text/x-python",
   "name": "python",
   "nbconvert_exporter": "python",
   "pygments_lexer": "ipython3",
   "version": "3.11.5"
  }
 },
 "nbformat": 4,
 "nbformat_minor": 2
}
