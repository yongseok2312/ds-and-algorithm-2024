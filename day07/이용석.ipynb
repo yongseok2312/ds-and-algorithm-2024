{
 "cells": [
  {
   "cell_type": "markdown",
   "metadata": {},
   "source": [
    "# 1번"
   ]
  },
  {
   "cell_type": "code",
   "execution_count": 3,
   "metadata": {},
   "outputs": [],
   "source": [
    "def stackfull():    # 스택이 꽉찼는지 확인 함수\n",
    "    global SIZE, stack, top\n",
    "    if ( top >= SIZE-1):\n",
    "        return True\n",
    "    else:\n",
    "        return False"
   ]
  },
  {
   "cell_type": "code",
   "execution_count": 4,
   "metadata": {},
   "outputs": [],
   "source": [
    "def stackempty():   # 스택이 비었는지 확인 함수\n",
    "    global SIZE, stack, top\n",
    "    if (top == -1):\n",
    "        return True\n",
    "    else:\n",
    "        return False"
   ]
  },
  {
   "cell_type": "code",
   "execution_count": 5,
   "metadata": {},
   "outputs": [],
   "source": [
    "def push(data): # 스택에 데이터 삽입 함수\n",
    "    global SIZE, stack, top\n",
    "    if (stackfull()):\n",
    "        print('스택이 다 찼습니다.')\n",
    "        return\n",
    "    top+=1\n",
    "    stack[top] = data\n"
   ]
  },
  {
   "cell_type": "code",
   "execution_count": 6,
   "metadata": {},
   "outputs": [],
   "source": [
    "def pop():  # 데이터 추출 함수\n",
    "    global SIZE, stack, top\n",
    "    if (stackempty()):\n",
    "        print('스택이 비었습니다.')\n",
    "        return None\n",
    "    data = stack[top]\n",
    "    stack[top] = None\n",
    "    top -= 1\n",
    "    return data"
   ]
  },
  {
   "cell_type": "code",
   "execution_count": 7,
   "metadata": {},
   "outputs": [],
   "source": [
    "def peek(): # top확인 함수\n",
    "    global SIZE, stack, top\n",
    "    if (stackempty()):\n",
    "        print('스택이 비었습니다.')\n",
    "        return None\n",
    "    return stack[top]"
   ]
  },
  {
   "cell_type": "code",
   "execution_count": 8,
   "metadata": {},
   "outputs": [],
   "source": [
    "# 변수선언\n",
    "SIZE = int(input('스택의 크기를 입력하세요 --> '))\n",
    "stack = [None for _ in range(SIZE)]\n",
    "top = -1"
   ]
  },
  {
   "cell_type": "code",
   "execution_count": 9,
   "metadata": {},
   "outputs": [
    {
     "name": "stdout",
     "output_type": "stream",
     "text": [
      "스택 상태: ['바', None, None, None, None]\n",
      "스택 상태: ['바', '인', None, None, None]\n",
      "잘못된 입력입니다.\n",
      "추출된 데이터 --> 인\n",
      "스택의 상태 --> ['바', None, None, None, None]\n",
      "추출된 데이터 --> 바\n",
      "스택의 상태 --> [None, None, None, None, None]\n",
      "스택 상태: ['e', None, None, None, None]\n"
     ]
    },
    {
     "ename": "KeyboardInterrupt",
     "evalue": "Interrupted by user",
     "output_type": "error",
     "traceback": [
      "\u001b[1;31m---------------------------------------------------------------------------\u001b[0m",
      "\u001b[1;31mKeyboardInterrupt\u001b[0m                         Traceback (most recent call last)",
      "Cell \u001b[1;32mIn[9], line 19\u001b[0m\n\u001b[0;32m     17\u001b[0m     \u001b[38;5;28;01melse\u001b[39;00m:\n\u001b[0;32m     18\u001b[0m         \u001b[38;5;28mprint\u001b[39m(\u001b[38;5;124m'\u001b[39m\u001b[38;5;124m잘못된 입력입니다.\u001b[39m\u001b[38;5;124m'\u001b[39m)\n\u001b[1;32m---> 19\u001b[0m     select \u001b[38;5;241m=\u001b[39m \u001b[38;5;28;43minput\u001b[39;49m\u001b[43m(\u001b[49m\u001b[38;5;124;43m'\u001b[39;49m\u001b[38;5;124;43m삽입(I), 추출(E), 확인(P), 종료(x) -> \u001b[39;49m\u001b[38;5;124;43m'\u001b[39;49m\u001b[43m)\u001b[49m\u001b[38;5;241m.\u001b[39mlower()\n\u001b[0;32m     20\u001b[0m \u001b[38;5;28mprint\u001b[39m(\u001b[38;5;124m'\u001b[39m\u001b[38;5;124m종료\u001b[39m\u001b[38;5;124m'\u001b[39m)\n",
      "File \u001b[1;32m~\\AppData\\Roaming\\Python\\Python311\\site-packages\\ipykernel\\kernelbase.py:1270\u001b[0m, in \u001b[0;36mKernel.raw_input\u001b[1;34m(self, prompt)\u001b[0m\n\u001b[0;32m   1268\u001b[0m     msg \u001b[38;5;241m=\u001b[39m \u001b[38;5;124m\"\u001b[39m\u001b[38;5;124mraw_input was called, but this frontend does not support input requests.\u001b[39m\u001b[38;5;124m\"\u001b[39m\n\u001b[0;32m   1269\u001b[0m     \u001b[38;5;28;01mraise\u001b[39;00m StdinNotImplementedError(msg)\n\u001b[1;32m-> 1270\u001b[0m \u001b[38;5;28;01mreturn\u001b[39;00m \u001b[38;5;28;43mself\u001b[39;49m\u001b[38;5;241;43m.\u001b[39;49m\u001b[43m_input_request\u001b[49m\u001b[43m(\u001b[49m\n\u001b[0;32m   1271\u001b[0m \u001b[43m    \u001b[49m\u001b[38;5;28;43mstr\u001b[39;49m\u001b[43m(\u001b[49m\u001b[43mprompt\u001b[49m\u001b[43m)\u001b[49m\u001b[43m,\u001b[49m\n\u001b[0;32m   1272\u001b[0m \u001b[43m    \u001b[49m\u001b[38;5;28;43mself\u001b[39;49m\u001b[38;5;241;43m.\u001b[39;49m\u001b[43m_parent_ident\u001b[49m\u001b[43m[\u001b[49m\u001b[38;5;124;43m\"\u001b[39;49m\u001b[38;5;124;43mshell\u001b[39;49m\u001b[38;5;124;43m\"\u001b[39;49m\u001b[43m]\u001b[49m\u001b[43m,\u001b[49m\n\u001b[0;32m   1273\u001b[0m \u001b[43m    \u001b[49m\u001b[38;5;28;43mself\u001b[39;49m\u001b[38;5;241;43m.\u001b[39;49m\u001b[43mget_parent\u001b[49m\u001b[43m(\u001b[49m\u001b[38;5;124;43m\"\u001b[39;49m\u001b[38;5;124;43mshell\u001b[39;49m\u001b[38;5;124;43m\"\u001b[39;49m\u001b[43m)\u001b[49m\u001b[43m,\u001b[49m\n\u001b[0;32m   1274\u001b[0m \u001b[43m    \u001b[49m\u001b[43mpassword\u001b[49m\u001b[38;5;241;43m=\u001b[39;49m\u001b[38;5;28;43;01mFalse\u001b[39;49;00m\u001b[43m,\u001b[49m\n\u001b[0;32m   1275\u001b[0m \u001b[43m\u001b[49m\u001b[43m)\u001b[49m\n",
      "File \u001b[1;32m~\\AppData\\Roaming\\Python\\Python311\\site-packages\\ipykernel\\kernelbase.py:1313\u001b[0m, in \u001b[0;36mKernel._input_request\u001b[1;34m(self, prompt, ident, parent, password)\u001b[0m\n\u001b[0;32m   1310\u001b[0m \u001b[38;5;28;01mexcept\u001b[39;00m \u001b[38;5;167;01mKeyboardInterrupt\u001b[39;00m:\n\u001b[0;32m   1311\u001b[0m     \u001b[38;5;66;03m# re-raise KeyboardInterrupt, to truncate traceback\u001b[39;00m\n\u001b[0;32m   1312\u001b[0m     msg \u001b[38;5;241m=\u001b[39m \u001b[38;5;124m\"\u001b[39m\u001b[38;5;124mInterrupted by user\u001b[39m\u001b[38;5;124m\"\u001b[39m\n\u001b[1;32m-> 1313\u001b[0m     \u001b[38;5;28;01mraise\u001b[39;00m \u001b[38;5;167;01mKeyboardInterrupt\u001b[39;00m(msg) \u001b[38;5;28;01mfrom\u001b[39;00m \u001b[38;5;28;01mNone\u001b[39;00m\n\u001b[0;32m   1314\u001b[0m \u001b[38;5;28;01mexcept\u001b[39;00m \u001b[38;5;167;01mException\u001b[39;00m:\n\u001b[0;32m   1315\u001b[0m     \u001b[38;5;28mself\u001b[39m\u001b[38;5;241m.\u001b[39mlog\u001b[38;5;241m.\u001b[39mwarning(\u001b[38;5;124m\"\u001b[39m\u001b[38;5;124mInvalid Message:\u001b[39m\u001b[38;5;124m\"\u001b[39m, exc_info\u001b[38;5;241m=\u001b[39m\u001b[38;5;28;01mTrue\u001b[39;00m)\n",
      "\u001b[1;31mKeyboardInterrupt\u001b[0m: Interrupted by user"
     ]
    }
   ],
   "source": [
    "# 메인 코드 \n",
    "if __name__ == '__main__':\n",
    "    select = input('삽입(I), 추출(E), 확인(P), 종료(x) -> ').lower()\n",
    "    while (select != 'x'):\n",
    "        if select == 'i':\n",
    "            data = input('입력할 데이터 --> ')\n",
    "            push(data)\n",
    "            print(f'스택 상태: {stack}')\n",
    "        elif select == 'e':\n",
    "            data = pop()\n",
    "            print(f'추출된 데이터 --> {data}')\n",
    "            print(f'스택의 상태 --> {stack}')\n",
    "        elif select == 'p':\n",
    "            data = peek()\n",
    "            print(f'확인된 데이터 --> {data}')\n",
    "            print(f'스택의 상태 --> {stack}')\n",
    "        else:\n",
    "            print('잘못된 입력입니다.')\n",
    "        select = input('삽입(I), 추출(E), 확인(P), 종료(x) -> ').lower()\n",
    "    print('종료')\n",
    "            \n",
    "\n",
    "            "
   ]
  },
  {
   "cell_type": "markdown",
   "metadata": {},
   "source": [
    "# 2번"
   ]
  },
  {
   "cell_type": "code",
   "execution_count": 12,
   "metadata": {},
   "outputs": [],
   "source": [
    "def quefull():  # 큐 꽉 차 있는 지 확인 함수\n",
    "    global SIZE,queue, front, rear\n",
    "    if (rear == SIZE-1):\n",
    "        return True\n",
    "    else:\n",
    "        return False"
   ]
  },
  {
   "cell_type": "code",
   "execution_count": 13,
   "metadata": {},
   "outputs": [],
   "source": [
    "def quempty(): # 비어쓴ㄴ지 확인 함수\n",
    "    global SIZE,queue, front, rear\n",
    "    if (front == rear):\n",
    "        return True\n",
    "    else:\n",
    "        return False\n",
    "    "
   ]
  },
  {
   "cell_type": "code",
   "execution_count": 14,
   "metadata": {},
   "outputs": [],
   "source": [
    "def enque(data):    # 삽입 함수\n",
    "    global SIZE,queue, front, rear\n",
    "    if (quefull()):\n",
    "        print('큐가 꽉찼습니다.')\n",
    "        return\n",
    "    rear +=1\n",
    "    queue[rear] = data"
   ]
  },
  {
   "cell_type": "code",
   "execution_count": 15,
   "metadata": {},
   "outputs": [],
   "source": [
    "def deque(data):\n",
    "    global SIZE,queue, front, rear\n",
    "    if (quempty()):\n",
    "        print('큐가 비었습니다.')\n",
    "        return None\n",
    "    front += 1\n",
    "    data = queue[front]\n",
    "    queue[front] = None\n",
    "\n",
    "    for i in range(front+1, rear+1):\n",
    "        queue[i-1] = queue[i]\n",
    "        queue[i] = None\n",
    "    front = -1 \n",
    "    rear -= 1\n",
    "    return data"
   ]
  },
  {
   "cell_type": "code",
   "execution_count": 16,
   "metadata": {},
   "outputs": [],
   "source": [
    "def peek():\n",
    "    global SIZE,queue, front, rear\n",
    "    if (quempty()):\n",
    "        print('큐가 비었습니다.')\n",
    "        return None\n",
    "    return queue[front+1]\n"
   ]
  },
  {
   "cell_type": "code",
   "execution_count": 19,
   "metadata": {},
   "outputs": [],
   "source": [
    "# 전역변수 선언\n",
    "SIZE = int(input('큐 크기를 설정하시오 --> '))\n",
    "queue = [None for _ in range(SIZE)]\n",
    "front = rear = -1\n"
   ]
  },
  {
   "cell_type": "code",
   "execution_count": 21,
   "metadata": {},
   "outputs": [
    {
     "name": "stdout",
     "output_type": "stream",
     "text": [
      "대기줄 상태 --> ['a', None, None]\n",
      "대기줄 상태 --> ['a', 'b', None]\n",
      "대기줄 상태 --> ['a', 'b', 'c']\n",
      "a 님 식당에 들어감\n",
      "대기줄 상태 --> ['b', 'c', None]\n",
      "b 님 식당에 들어감\n",
      "대기줄 상태 --> ['c', None, None]\n",
      "c 님 식당에 들어감\n",
      "대기줄 상태 --> [None, None, None]\n",
      "대기줄에 사람이 없습니다.\n",
      "큐가 비었습니다.\n",
      "대기줄 상태 --> [None, None, None]\n",
      "큐가 비었습니다.\n",
      "대기줄 상태 --> [None, None, None]\n",
      "큐가 비었습니다.\n",
      "대기줄 상태 --> [None, None, None]\n",
      "종료\n"
     ]
    }
   ],
   "source": [
    "# 메인 코드\n",
    "if __name__ == '__main__':\n",
    "    while True:\n",
    "        select = input('삽입(I), 추출(E), 확인(p), 종료(x) -> ').lower()\n",
    "        if select == 'i':\n",
    "            data = input('입력할 데이터 --> ')\n",
    "            enque(data)\n",
    "            print(f'대기줄 상태 --> {queue}')\n",
    "            \n",
    "        elif select == 'e':            \n",
    "            if quempty() == True:\n",
    "                print('대기줄에 사람이 없습니다.')\n",
    "            else:\n",
    "                print(deque(data),'님 식당에 들어감')\n",
    "                print(f'대기줄 상태 --> {queue}')\n",
    "            \n",
    "            \n",
    "                \n",
    "\n",
    "        elif select == 'p':\n",
    "            data = peek()\n",
    "            print(f'대기줄 상태 --> {queue}')\n",
    "            \n",
    "        elif select == 'x' :\n",
    "            print('종료')\n",
    "            break\n",
    "        else:\n",
    "            continue\n",
    "\n",
    "\n",
    "\n",
    "            "
   ]
  },
  {
   "cell_type": "markdown",
   "metadata": {},
   "source": [
    "# 3번"
   ]
  },
  {
   "cell_type": "code",
   "execution_count": 1,
   "metadata": {},
   "outputs": [],
   "source": [
    "import random"
   ]
  },
  {
   "cell_type": "code",
   "execution_count": 5,
   "metadata": {},
   "outputs": [
    {
     "name": "stdout",
     "output_type": "stream",
     "text": [
      "오늘 판매된 물건(중복 O) --> ['키', '우유', '우유', '우유', '바나나']\n",
      "이진 탐색트리 구성 완료!\n",
      "오늘 판매된 종류(중복 X) -->  키 우유 바나나 "
     ]
    }
   ],
   "source": [
    "class treenode():\n",
    "    def __init__(self):\n",
    "        self.left = None\n",
    "        self.data = None\n",
    "        self.right = None\n",
    "        \n",
    "memory = []\n",
    "root = None\n",
    "a = int(input('오늘 판매된 상품은 몇개 인가요? --> '))\n",
    "dataAry = input('판매되는 상품을 입력하시오(구분자 쉼표) --> ').split(',')\n",
    "sellary = [random.choice(dataAry) for _ in range (a)]\n",
    "\n",
    "print(f'오늘 판매된 물건(중복 O) --> {sellary}')\n",
    "\n",
    "# 메인코드\n",
    "node = treenode()\n",
    "node.data = sellary[0]\n",
    "root = node\n",
    "memory.append(node)\n",
    "for name in sellary[1:]:\n",
    "    node = treenode()\n",
    "    node.data = name\n",
    "    current = root\n",
    "    while True:\n",
    "        if name == current.data :\n",
    "            break\n",
    "        if name < current.data:\n",
    "            if current.left == None:\n",
    "                current.left = node\n",
    "                memory.append(node)\n",
    "                break\n",
    "            current = current.left\n",
    "        else:\n",
    "            if current.right == None:\n",
    "                current.right = node\n",
    "                memory.append(node)\n",
    "                break\n",
    "            current = current.right\n",
    "\n",
    "print('이진 탐색트리 구성 완료!')\n",
    "\n",
    "def preorder(node):\n",
    "    if node == None:\n",
    "        return\n",
    "    print(node.data , end= ' ')\n",
    "    preorder(node.left)\n",
    "    preorder(node.right)\n",
    "\n",
    "print('오늘 판매된 종류(중복 X) --> ',end = ' ')\n",
    "preorder(root)\n"
   ]
  },
  {
   "cell_type": "code",
   "execution_count": null,
   "metadata": {},
   "outputs": [],
   "source": []
  }
 ],
 "metadata": {
  "kernelspec": {
   "display_name": "Python 3",
   "language": "python",
   "name": "python3"
  },
  "language_info": {
   "codemirror_mode": {
    "name": "ipython",
    "version": 3
   },
   "file_extension": ".py",
   "mimetype": "text/x-python",
   "name": "python",
   "nbconvert_exporter": "python",
   "pygments_lexer": "ipython3",
   "version": "3.11.5"
  }
 },
 "nbformat": 4,
 "nbformat_minor": 2
}
